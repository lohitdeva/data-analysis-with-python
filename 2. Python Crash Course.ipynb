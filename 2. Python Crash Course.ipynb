{
 "cells": [
  {
   "attachments": {},
   "cell_type": "markdown",
   "metadata": {},
   "source": [
    "# 2. Python Crash Course\n",
    "\n",
    "## Comments:\n",
    "Comments are lines of text that are ignored by Python\n",
    "<br>Comments begin with `#`"
   ]
  },
  {
   "cell_type": "code",
   "execution_count": 1,
   "metadata": {},
   "outputs": [
    {
     "name": "stdout",
     "output_type": "stream",
     "text": [
      "This however is not a comment\n"
     ]
    }
   ],
   "source": [
    "# This is a comment\n",
    "# This is another comment\n",
    "# This is a third comment\n",
    "print(\"This however is not a comment\")"
   ]
  },
  {
   "attachments": {},
   "cell_type": "markdown",
   "metadata": {},
   "source": [
    "## Basic Data Types\n",
    "\n",
    "- **Integers:** Whole numbers\n",
    "- **Floating point numbers:** Numbers with a decimal/fractional component\n",
    "- **String:** Any collection of characters that is treated as text\n",
    "- **Boolean:** True or False values\n",
    "- **None:** Represents null values"
   ]
  },
  {
   "cell_type": "code",
   "execution_count": 2,
   "metadata": {},
   "outputs": [
    {
     "name": "stdout",
     "output_type": "stream",
     "text": [
      "5 is a <class 'int'>\n",
      "5.2 is a <class 'float'>\n",
      "Lohit is a <class 'str'>\n",
      "False is a <class 'bool'>\n",
      "None is a <class 'NoneType'>\n"
     ]
    }
   ],
   "source": [
    "# Checking different data types in python\n",
    "\n",
    "integer = 5\n",
    "floating_num = 5.2\n",
    "string = \"Lohit\"\n",
    "bool_val = 10 < 2\n",
    "none = None\n",
    "\n",
    "# type() is a built-in function to check the datatype of a variable\n",
    "print(integer, \"is a\", type(integer))\n",
    "print(floating_num, \"is a\", type(floating_num))\n",
    "print(string, \"is a\", type(string))\n",
    "print(bool_val, \"is a\", type(bool_val))\n",
    "print(none, \"is a\", type(none))"
   ]
  },
  {
   "attachments": {},
   "cell_type": "markdown",
   "metadata": {},
   "source": [
    "## Operators\n",
    "\n",
    "Operators are **symbols** that are used to perform operations in Python.\n",
    "\n",
    "- `+`: Addition or concatenation (when used with strings)\n",
    "- `-`: Subtraction\n",
    "- `*`: Multiplication (can be used to multiply strings as well)\n",
    "- `/`: Division\n",
    "- `//`: Integral division, returns the floor value\n",
    "- `%`: Modulo operator, returns the remainder\n",
    "- `**`: Exponentiation\n",
    "- `==`: Logical operator to check for equality\n",
    "- `!=`: Inequality operator\n",
    "- `<`: Lesser than operator\n",
    "- `<=`: Lesser than or equal to\n",
    "- `>`: Greater than operator\n",
    "- `>=:` Greater than or equal to operator"
   ]
  },
  {
   "cell_type": "code",
   "execution_count": 3,
   "metadata": {},
   "outputs": [
    {
     "name": "stdout",
     "output_type": "stream",
     "text": [
      "7\n",
      "racecar\n",
      "3\n",
      "10\n",
      "raceracerace\n",
      "2.5\n",
      "2\n",
      "1\n",
      "25\n",
      "False\n",
      "True\n",
      "False\n",
      "True\n",
      "True\n",
      "False\n"
     ]
    }
   ],
   "source": [
    "print(5 + 2) # Addition\n",
    "print(\"race\" + \"car\") # Concatenation\n",
    "print(5 - 2) # Subtraction\n",
    "print(5 * 2) # Multiplication\n",
    "print(\"race\" * 3) # Multiplying strings\n",
    "print(5 / 2) # Division\n",
    "print(5 // 2) # Integral Division\n",
    "print(5 % 2) # Modulo\n",
    "print(5 ** 2) # Exponentiation\n",
    "print(5 == 2) # Equality\n",
    "print(5 != 2) # Inequality\n",
    "print(5 < 2) # Lesser than\n",
    "print(5 <= 5) # Lesser than or equal to\n",
    "print(10 > 5) # Greater than\n",
    "print(10 >= 11) # Greater than or equal to "
   ]
  },
  {
   "attachments": {},
   "cell_type": "markdown",
   "metadata": {},
   "source": [
    "## Variables\n",
    "\n",
    "Variables are **names** provided for values in a program. They behave as placeholders.\n",
    "<br>A variable's value can *vary* over a program\n",
    "\n",
    "### Formatting rules for variables:\n",
    "- **Always use lower case**: Example: `name`\n",
    "- **Use snake case for multiple words:** Example: `student_name`"
   ]
  },
  {
   "cell_type": "code",
   "execution_count": 4,
   "metadata": {},
   "outputs": [
    {
     "name": "stdout",
     "output_type": "stream",
     "text": [
      "The name is currently Lohit\n",
      "The name has now been changed to Ravi\n"
     ]
    }
   ],
   "source": [
    "name = \"Lohit\"\n",
    "print(\"The name is currently\", name)\n",
    "name = \"Ravi\"\n",
    "print(\"The name has now been changed to\", name)"
   ]
  },
  {
   "attachments": {},
   "cell_type": "markdown",
   "metadata": {},
   "source": [
    "## Built-in Functions\n",
    "\n",
    "A function is a **repeatable procedure** that can accept inputs (**arguments**) to return outputs (**return values**).\n",
    "<br>The technical term for running a function is *invoking* or *calling*.\n",
    "\n",
    "**Built-in functions** are functions that come pre-written with Python."
   ]
  },
  {
   "cell_type": "code",
   "execution_count": 5,
   "metadata": {},
   "outputs": [
    {
     "name": "stdout",
     "output_type": "stream",
     "text": [
      "The length of \" Lohit \" is 5\n"
     ]
    }
   ],
   "source": [
    "name = \"Lohit\"\n",
    "length_of_name = len(name) # len() is a built-in function to calculate the length of a string\n",
    "\n",
    "print(\"The length of \\\"\", name, \"\\\" is\", length_of_name)"
   ]
  },
  {
   "attachments": {},
   "cell_type": "markdown",
   "metadata": {},
   "source": [
    "Some other built-in functions are:\n",
    "- `str()`: Converts an input into a string\n",
    "- `int()`: Converts an input into an integer\n",
    "- `float()`: Converts an input into a floating point number\n",
    "- `type()`: Returns the data type of a variable"
   ]
  },
  {
   "attachments": {},
   "cell_type": "markdown",
   "metadata": {},
   "source": [
    "## Custom Functions\n",
    "\n",
    "Functions can also be created by a user to run a repeated set of instructions. The syntax to create a function is as follows:\n",
    "```python\n",
    "def function_name(parameters):\n",
    "    statements\n",
    "    return statement (optional)\n",
    "```\n",
    "A **parameter** is a placeholder name for an expected argument to be passed to the function.\n",
    "<br> An **argument** is the actual value passed to the function during runtime."
   ]
  },
  {
   "cell_type": "code",
   "execution_count": 7,
   "metadata": {},
   "outputs": [
    {
     "name": "stdout",
     "output_type": "stream",
     "text": [
      "24 ℃ is 75.2 ℉\n",
      "35 ℃ is 95.0 ℉\n",
      "73 ℃ is 163.4 ℉\n"
     ]
    }
   ],
   "source": [
    "# A custom function to convert temperature from Celsius to Fahrenheit\n",
    "\n",
    "def celsius_to_fahrenheit(temp):\n",
    "    return (9 / 5 * temp) + 32\n",
    "\n",
    "print(\"24 \\u2103 is\", celsius_to_fahrenheit(24), \"\\u2109\")\n",
    "print(\"35 \\u2103 is\", celsius_to_fahrenheit(35), \"\\u2109\")\n",
    "print(\"73 \\u2103 is\", celsius_to_fahrenheit(73), \"\\u2109\")"
   ]
  },
  {
   "attachments": {},
   "cell_type": "markdown",
   "metadata": {},
   "source": [
    "## String Methods\n",
    "\n",
    "**Objects** can be thought of complex data types that are created when working with *Object Oriented Programming Languages*. In Python, the string data type is actually an object.\n",
    "\n",
    "**Methods** are functions that belong to an object. You can invoke methods using the syntax: `object.method()`\n",
    "\n",
    "Objects can be *mutable* or *immutable*, string is an immutable object."
   ]
  },
  {
   "cell_type": "code",
   "execution_count": 8,
   "metadata": {},
   "outputs": [
    {
     "name": "stdout",
     "output_type": "stream",
     "text": [
      "PYTHON DEVELOPER\n",
      "python developer\n",
      "pYTHON dEVELOPER\n",
      "Python Developer\n",
      "Python developer\n"
     ]
    }
   ],
   "source": [
    "sample_string = \"Python Developer\"\n",
    "\n",
    "print(sample_string.upper()) # String method to convert to uppercase\n",
    "print(sample_string.lower()) # String method to convert to lowercase\n",
    "print(sample_string.swapcase()) # String method to convert to swap cases\n",
    "print(sample_string.title()) # String method to convert to title case\n",
    "print(sample_string.capitalize()) # String method to convert to capital case (first letter capitalized)"
   ]
  },
  {
   "attachments": {},
   "cell_type": "markdown",
   "metadata": {},
   "source": [
    "Some other string methods are:\n",
    "- `lstrip():` Strips the whitespace on the left side of the string\n",
    "- `rstrip():` Strips the whitespace on the right side of the string\n",
    "- `strip():` Strips whitespace from both the left and the right side\n",
    "- `replace(existing, new):` Replaces an existing character (the first argument, if found) with a new one (the second argument)\n",
    "- `startwith(string):` Checks if the string starts with the given input\n",
    "- `endswith(string):` Checks if the string ends with the given input\n",
    "\n",
    "The `in` keyword can be used to check if a given string is inside the original string (or its converse `not in` for the opposite)."
   ]
  },
  {
   "cell_type": "code",
   "execution_count": 11,
   "metadata": {},
   "outputs": [
    {
     "name": "stdout",
     "output_type": "stream",
     "text": [
      "True\n",
      "True\n"
     ]
    }
   ],
   "source": [
    "print(\"Dev\" in sample_string)\n",
    "print(\"Apple\" not in sample_string)"
   ]
  },
  {
   "attachments": {},
   "cell_type": "markdown",
   "metadata": {},
   "source": [
    "## Lists\n",
    "\n",
    "A **list** is a mutable data type that can contain an ordered collection of values of various different data types. Contents of a list are called **elements**. Lists have their own built in methods as well."
   ]
  },
  {
   "cell_type": "code",
   "execution_count": 13,
   "metadata": {},
   "outputs": [
    {
     "name": "stdout",
     "output_type": "stream",
     "text": [
      "The list is currently: ['Sarthak', 'Shivam', 'Lohit']\n",
      "The length of this list is 3\n",
      "The data type is: <class 'list'>\n",
      "The list is now: ['Sarthak', 'Shivam', 'Lohit', 'Vishnu']\n",
      "The list after popping is: ['Sarthak', 'Shivam', 'Lohit']\n",
      "Is Nitesh in the list?\n",
      "The answer is:  False\n"
     ]
    }
   ],
   "source": [
    "valo_players = [\"Sarthak\", \"Shivam\", \"Lohit\"]\n",
    "\n",
    "print(\"The list is currently:\", valo_players)\n",
    "print(\"The length of this list is\", len(valo_players)) # Returns the number of elements in a list\n",
    "print(\"The data type is:\", type(valo_players))\n",
    "\n",
    "valo_players.append(\"Vishnu\") # Adding a new element to the list\n",
    "print(\"The list is now:\", valo_players)\n",
    "\n",
    "valo_players.pop() # Removes the last element\n",
    "print(\"The list after popping is:\", valo_players)\n",
    "\n",
    "print(\"Is Nitesh in the list?\\nThe answer is: \", \"Nitesh\" in valo_players)"
   ]
  },
  {
   "attachments": {},
   "cell_type": "markdown",
   "metadata": {},
   "source": [
    "## Index Positions and Slicing\n",
    "\n",
    "Strings and lists assign indexes starting from 0 to every element. Use the index number inside a square bracket to extract the desired element. Use negative numbers to index from the end of the object.\n",
    "\n",
    "**Slicing:** `object[start_index:final_index(excluding):step_count]`"
   ]
  },
  {
   "cell_type": "code",
   "execution_count": 20,
   "metadata": {},
   "outputs": [
    {
     "name": "stdout",
     "output_type": "stream",
     "text": [
      "The fifth character here is 'a'\n",
      "The sixth character from the end is 't'\n",
      "The fifth to fifteenth characters while alternating are 'aei oi'\n",
      "The fifth to last but sixth characters are 'ame is Lohit'\n"
     ]
    }
   ],
   "source": [
    "random_string = \"My name is Lohit Deva\"\n",
    "\n",
    "print(\"The fifth character here is '\", random_string[4], \"'\", sep='')\n",
    "print(\"The sixth character from the end is '\", random_string[-6], \"'\", sep='')\n",
    "print(\"The fifth to fifteenth characters while alternating are '\", random_string[4:15:2], \"'\", sep='')\n",
    "print(\"The fifth to last but sixth characters are '\", random_string[4:-5], \"'\", sep='')"
   ]
  },
  {
   "attachments": {},
   "cell_type": "markdown",
   "metadata": {},
   "source": [
    "## Dictionaries\n",
    "\n",
    "A **dictionary** is an ordered collection of *key-value* pairs. Keys behave as identifiers for their corresponding values.\n",
    "\n",
    "Lists are used to maintain **order**, dictionaries are used to **map values together**."
   ]
  },
  {
   "cell_type": "code",
   "execution_count": 21,
   "metadata": {},
   "outputs": [
    {
     "name": "stdout",
     "output_type": "stream",
     "text": [
      "A coca cola costs $5\n",
      "The new dictionary is:\n",
      "{'Burger': 20, 'Pizza': 35, 'Coca cola': 5, 'Shawarma': 25}\n",
      "The menu without coca cola is:\n",
      "{'Burger': 20, 'Pizza': 35, 'Shawarma': 25}\n",
      "Does the menu contain hot pockets?\n",
      "False\n",
      "The values contained in the menu are: dict_values([20, 35, 25])\n"
     ]
    }
   ],
   "source": [
    "menu_items = {\"Burger\": 20,\n",
    "              \"Pizza\": 35,\n",
    "              \"Coca cola\": 5}\n",
    "\n",
    "print(\"A coca cola costs $\", menu_items[\"Coca cola\"], sep='') # Dictionaries are indexed by keys\n",
    "\n",
    "menu_items[\"Shawarma\"] = 25 # Adding a new item to a dictionary\n",
    "\n",
    "print(\"The new dictionary is:\\n\", menu_items, sep='')\n",
    "\n",
    "menu_items.pop(\"Coca cola\") # Removing a key-value pair from a dictionary\n",
    "\n",
    "print(\"The menu without coca cola is:\\n\", menu_items, sep='')\n",
    "\n",
    "print(\"Does the menu contain hot pockets?\\n\", \"Hot Pockets\" in menu_items, sep='') # Checking if a key exists in a dictionary\n",
    "\n",
    "print(\"The values contained in the menu are:\", menu_items.values()) # Returns an object containing the values in the dictionary"
   ]
  },
  {
   "attachments": {},
   "cell_type": "markdown",
   "metadata": {},
   "source": [
    "## Classes\n",
    "\n",
    "**Classes** are templates to create objects in Object Oriented Programming. Classes contain **methods** which are functions that the object will posses.\n",
    "\n",
    "An **object** is an **instance** of the class that it is created from. This creation of an object is called **instantiation**.\n",
    "\n",
    "Strings, lists, and dictionaries are all classes and we create instances of them when we use `\"\"`, `[]`, or `{}`. For other classes however, we will create instances using `classname()`. Sometimes these instantiations might even require arguments to be passed."
   ]
  }
 ],
 "metadata": {
  "kernelspec": {
   "display_name": "data-analysis",
   "language": "python",
   "name": "python3"
  },
  "language_info": {
   "codemirror_mode": {
    "name": "ipython",
    "version": 3
   },
   "file_extension": ".py",
   "mimetype": "text/x-python",
   "name": "python",
   "nbconvert_exporter": "python",
   "pygments_lexer": "ipython3",
   "version": "3.11.3"
  },
  "orig_nbformat": 4
 },
 "nbformat": 4,
 "nbformat_minor": 2
}
