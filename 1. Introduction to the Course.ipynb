{
 "cells": [
  {
   "attachments": {},
   "cell_type": "markdown",
   "metadata": {},
   "source": [
    "# 1. Introduction to the Course\n",
    "\n",
    "**Data Analysis:** The process of deriving an insight from a dataset. Trying to gain a conclusion or identify a trend from the data.\n",
    "\n",
    "The majority of the work is to shape the data into the correct formats.\n",
    "\n",
    "**What is pandas?**\n",
    "- It is a data analysis library built on top of Python.\n",
    "- It is a robust toolkit for analyzing, filtering, manipulating, aggregating, merging, pivoting, and cleaning data.\n",
    "- The name is short for *'panel data structure'*, which refers to datasets with observations over time.\n",
    "- It can be considered as Excel with steroids."
   ]
  },
  {
   "attachments": {},
   "cell_type": "markdown",
   "metadata": {},
   "source": [
    "Here is a sample block of code executed in the Jupyter notebook to make sure that the environment is working correctly:"
   ]
  },
  {
   "cell_type": "code",
   "execution_count": 1,
   "metadata": {},
   "outputs": [
    {
     "name": "stdout",
     "output_type": "stream",
     "text": [
      "Hello world!\n"
     ]
    }
   ],
   "source": [
    "print(\"Hello world!\")"
   ]
  }
 ],
 "metadata": {
  "kernelspec": {
   "display_name": "data-analysis",
   "language": "python",
   "name": "python3"
  },
  "language_info": {
   "codemirror_mode": {
    "name": "ipython",
    "version": 3
   },
   "file_extension": ".py",
   "mimetype": "text/x-python",
   "name": "python",
   "nbconvert_exporter": "python",
   "pygments_lexer": "ipython3",
   "version": "3.11.3"
  },
  "orig_nbformat": 4
 },
 "nbformat": 4,
 "nbformat_minor": 2
}
